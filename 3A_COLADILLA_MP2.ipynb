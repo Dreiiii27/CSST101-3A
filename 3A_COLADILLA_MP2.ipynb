{
  "nbformat": 4,
  "nbformat_minor": 0,
  "metadata": {
    "colab": {
      "provenance": []
    },
    "kernelspec": {
      "name": "python3",
      "display_name": "Python 3"
    },
    "language_info": {
      "name": "python"
    }
  },
  "cells": [
    {
      "cell_type": "markdown",
      "source": [
        "# 1. Basic Operations"
      ],
      "metadata": {
        "id": "O0F2L1b8pm8v"
      }
    },
    {
      "cell_type": "code",
      "execution_count": 1,
      "metadata": {
        "id": "-fiJc3J3iTiC"
      },
      "outputs": [],
      "source": [
        "def and_operation(p, q):\n",
        "    \"\"\"Logical conjunction (AND).\"\"\"\n",
        "    return p and q\n",
        "\n",
        "def or_operation(p, q):\n",
        "    \"\"\"Logical disjunction (OR).\"\"\"\n",
        "    return p or q\n",
        "\n",
        "def not_operation(p):\n",
        "    \"\"\"Logical negation (NOT).\"\"\"\n",
        "    return not p\n",
        "\n",
        "def implies_operation(p, q):\n",
        "    \"\"\"Logical implication (IMPLIES).\"\"\"\n",
        "    return not p or q"
      ]
    },
    {
      "cell_type": "markdown",
      "source": [
        "# 2. Evaluate Logical Statements\n",
        "To evaluate logical statements, we can create a function that parses a string representation of the logical expression and evaluates it based on the provided truth values."
      ],
      "metadata": {
        "id": "JvcF2kNKpqqb"
      }
    },
    {
      "cell_type": "code",
      "source": [
        "def evaluate(statement, values):\n",
        "    \"\"\"Evaluate a logical statement based on given truth values.\"\"\"\n",
        "\n",
        "    statement = statement.replace('AND', 'and').replace('OR', 'or').replace('NOT', 'not')\n",
        "    statement = statement.replace('(', ' ( ').replace(')', ' ) ')\n",
        "\n",
        "    tokens = statement.split()\n",
        "\n",
        "    stack = []\n",
        "\n",
        "    for token in tokens:\n",
        "        if token in values:\n",
        "            stack.append(values[token])\n",
        "        elif token == 'not':\n",
        "            stack.append(not stack.pop())\n",
        "        elif token in ['and', 'or']:\n",
        "            right = stack.pop()\n",
        "            left = stack.pop()\n",
        "            if token == 'and':\n",
        "                stack.append(left and right)\n",
        "            elif token == 'or':\n",
        "                stack.append(left or right)\n",
        "        else:\n",
        "            raise ValueError(f\"Unknown token: {token}\")\n",
        "\n",
        "    return stack[0] if stack else None"
      ],
      "metadata": {
        "id": "QMX8S8gGpu9g"
      },
      "execution_count": 3,
      "outputs": []
    },
    {
      "cell_type": "markdown",
      "source": [
        "# Example Usage"
      ],
      "metadata": {
        "id": "Ath0Q0Qcp1_Y"
      }
    },
    {
      "cell_type": "code",
      "source": [
        "def evaluate(statement, values):\n",
        "    \"\"\"Evaluate a logical statement based on given truth values.\"\"\"\n",
        "\n",
        "    statement = statement.replace('AND', ' and ').replace('OR', ' or ').replace('NOT', ' not ') # Add spaces around operators\n",
        "    statement = statement.replace('(', '( ').replace(')', ' ) ')\n",
        "\n",
        "    tokens = statement.split()\n",
        "\n",
        "    stack = []\n",
        "\n",
        "    for token in tokens:\n",
        "        if token in values:\n",
        "            stack.append(values[token])\n",
        "        elif token == 'not':\n",
        "            if stack: # Check if stack is not empty before popping\n",
        "                stack.append(not stack.pop())\n",
        "        elif token in ['and', 'or']:\n",
        "            if len(stack) >= 2: # Check if there are enough operands\n",
        "                right = stack.pop()\n",
        "                left = stack.pop()\n",
        "                if token == 'and':\n",
        "                    stack.append(left and right)\n",
        "                elif token == 'or':\n",
        "                    stack.append(left or right)\n",
        "        # Removed the else block as it was raising a ValueError for parentheses\n",
        "\n",
        "    return stack[0] if stack else None"
      ],
      "metadata": {
        "id": "yAS_E5anp24n"
      },
      "execution_count": 8,
      "outputs": []
    },
    {
      "cell_type": "markdown",
      "source": [
        "# Extend to Predicate Logic\n",
        "## 3. Support for Quantifiers\n",
        "To support predicate logic, we can define functions for the universal and existential quantifiers. For simplicity, we will represent predicates as functions."
      ],
      "metadata": {
        "id": "IcNWZ5s_qfw0"
      }
    },
    {
      "cell_type": "code",
      "source": [
        "def for_all(predicate, domain):\n",
        "    \"\"\"Universal quantifier (FOR ALL).\"\"\"\n",
        "    return all(predicate(x) for x in domain)\n",
        "\n",
        "def exists(predicate, domain):\n",
        "    \"\"\"Existential quantifier (EXISTS).\"\"\"\n",
        "    return any(predicate(x) for x in domain)"
      ],
      "metadata": {
        "id": "QAmduvjbqloi"
      },
      "execution_count": 10,
      "outputs": []
    },
    {
      "cell_type": "markdown",
      "source": [
        "# Example Usage of Quantifiers"
      ],
      "metadata": {
        "id": "KWcv4xuZqn9e"
      }
    },
    {
      "cell_type": "code",
      "source": [
        "# Define a predicate function\n",
        "def is_even(x):\n",
        "    return x % 2 == 0\n",
        "\n",
        "# Define a domain\n",
        "domain = range(10)  # 0 to 9\n",
        "\n",
        "# Evaluate quantifiers\n",
        "print(for_all(is_even, domain))  # Output: False (not all are even)\n",
        "print(exists(is_even, domain))    # Output: True (there are even numbers)"
      ],
      "metadata": {
        "colab": {
          "base_uri": "https://localhost:8080/"
        },
        "id": "C3yTKcWHqrQT",
        "outputId": "6141adf5-dba3-4bb2-a8d5-77ab7cc35517"
      },
      "execution_count": 11,
      "outputs": [
        {
          "output_type": "stream",
          "name": "stdout",
          "text": [
            "False\n",
            "True\n"
          ]
        }
      ]
    },
    {
      "cell_type": "markdown",
      "source": [
        "# Conclusion\n",
        "This implementation provides a foundation for propositional and predicate logic operations in Python. You can extend these functions further based on your specific requirements, such as adding more logical operations or supporting more complex logical expressions."
      ],
      "metadata": {
        "id": "AU7HsZk0qxEv"
      }
    }
  ]
}