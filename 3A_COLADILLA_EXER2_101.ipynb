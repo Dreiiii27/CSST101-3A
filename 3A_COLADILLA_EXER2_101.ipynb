{
  "nbformat": 4,
  "nbformat_minor": 0,
  "metadata": {
    "colab": {
      "provenance": []
    },
    "kernelspec": {
      "name": "python3",
      "display_name": "Python 3"
    },
    "language_info": {
      "name": "python"
    }
  },
  "cells": [
    {
      "cell_type": "markdown",
      "source": [
        "# **Assessment Task 1: Basic Probability Calculations**\n",
        "\n",
        "## 1. Start with a Coding Task:\n",
        "\n",
        "* Write Python functions to compute joint probability, marginal probability, and\n",
        "conditional probability.\n"
      ],
      "metadata": {
        "id": "yDw3ykzw57g-"
      }
    },
    {
      "cell_type": "markdown",
      "source": [
        "## **Python Code Implementation**\n",
        "### Here’s how you can implement these calculations in Python:"
      ],
      "metadata": {
        "id": "dARXjkol7BDv"
      }
    },
    {
      "cell_type": "code",
      "execution_count": 12,
      "metadata": {
        "colab": {
          "base_uri": "https://localhost:8080/"
        },
        "id": "ktRxQuFw5g-V",
        "outputId": "97ce38d3-6513-4b7c-edae-b89c62c1d518"
      },
      "outputs": [
        {
          "output_type": "stream",
          "name": "stdout",
          "text": [
            "Joint Probability: 0.12\n",
            "Marginal Probability: 0.58\n",
            "Conditional Probability: 0.6\n"
          ]
        }
      ],
      "source": [
        "def joint_probabiliuty(p_A, p_B):\n",
        "  return p_A * p_B\n",
        "\n",
        "def marginal_probability(p_A, p_B):\n",
        "  return p_A + p_B - joint_probabiliuty(p_A, p_B)\n",
        "\n",
        "def conditional_probability(p_B_given_A, p_A, p_B):\n",
        "  return (p_B_given_A * p_A) / p_B\n",
        "\n",
        "p_A = 0.3\n",
        "p_B = 0.4\n",
        "p_B_given_A = 0.8\n",
        "\n",
        "print(f\"Joint Probability: {joint_probabiliuty(p_A, p_B)}\")\n",
        "print(f\"Marginal Probability: {marginal_probability(p_A, p_B)}\")\n",
        "print(f\"Conditional Probability: {conditional_probability(p_B_given_A, p_A, p_B)}\")"
      ]
    },
    {
      "cell_type": "markdown",
      "source": [
        "## Assessment Task 2: Bayesian Inference"
      ],
      "metadata": {
        "id": "f5mhhJsw7162"
      }
    },
    {
      "cell_type": "code",
      "source": [
        "def bayesian_inference(prior, likelihood_positive_given_disease, likehood_positive):\n",
        "  posterior = (likelihood_positive_given_disease * prior) / likelihood_positive\n",
        "  return posterior\n",
        "\n",
        "prior_disease = 0.01\n",
        "likelihood_positive_given_disease = 0.9\n",
        "likelihood_positive = 0.05\n",
        "\n",
        "posterior_disease = bayesian_inference(prior_disease, likelihood_positive_given_disease, likelihood_positive)\n",
        "print(f\"Posterior probability of disease given positive test: {posterior_disease}\")"
      ],
      "metadata": {
        "colab": {
          "base_uri": "https://localhost:8080/"
        },
        "id": "a8sRZhsZNS-F",
        "outputId": "d7879b03-b8a6-42e9-9108-d244b915b2e4"
      },
      "execution_count": 13,
      "outputs": [
        {
          "output_type": "stream",
          "name": "stdout",
          "text": [
            "Posterior probability of disease given positive test: 0.18000000000000002\n"
          ]
        }
      ]
    },
    {
      "cell_type": "markdown",
      "source": [
        "## Assessment Task 3: Decision-Making Under Uncertainty"
      ],
      "metadata": {
        "id": "UNj3DqLdNPIp"
      }
    },
    {
      "cell_type": "code",
      "source": [
        "import numpy as np\n",
        "\n",
        "def simulate_decision(num_simulation, p_success, reward_success, reward_failure):\n",
        "  outcomes = []\n",
        "  for _ in range(num_simulation):\n",
        "    if np.random.rand() < p_success:\n",
        "      outcomes.append(reward_success)\n",
        "    else:\n",
        "      outcomes.append(reward_failure)\n",
        "  return np.mean(outcomes)\n",
        "\n",
        "p_success = 0.7\n",
        "reward_success = 1000\n",
        "reward_failure = -500\n",
        "\n",
        "avarage_outcome = simulate_decision(1000, p_success, reward_success, reward_failure )\n",
        "print(f\"Expected value of decision: {avarage_outcome}\")"
      ],
      "metadata": {
        "colab": {
          "base_uri": "https://localhost:8080/"
        },
        "id": "NjkpzKtE765D",
        "outputId": "edd4d4c0-7431-4313-8d76-68e111a5f6ea"
      },
      "execution_count": 14,
      "outputs": [
        {
          "output_type": "stream",
          "name": "stdout",
          "text": [
            "Expected value of decision: 560.5\n"
          ]
        }
      ]
    },
    {
      "cell_type": "markdown",
      "source": [
        "## Assessment Task 4: Real-World Scenario\n"
      ],
      "metadata": {
        "id": "7Nkv_JtwNyH5"
      }
    },
    {
      "cell_type": "code",
      "source": [
        "p_purchase_given_cart = 0.4\n",
        "p_cart = 0.3\n",
        "\n",
        "p_purchase = conditional_probability(p_purchase_given_cart, p_cart, 1)\n",
        "print(f\"Probability of purchase: {p_purchase}\")"
      ],
      "metadata": {
        "colab": {
          "base_uri": "https://localhost:8080/"
        },
        "id": "V5HAHNGYObp-",
        "outputId": "140c2848-02ba-46ad-df37-6ae630d2eea3"
      },
      "execution_count": 15,
      "outputs": [
        {
          "output_type": "stream",
          "name": "stdout",
          "text": [
            "Probability of purchase: 0.12\n"
          ]
        }
      ]
    },
    {
      "cell_type": "markdown",
      "source": [
        "## Assessment Task 5: Probability Distributions Visualization\n"
      ],
      "metadata": {
        "id": "Lptz3QVpOZmZ"
      }
    },
    {
      "cell_type": "code",
      "source": [
        "import numpy as np\n",
        "import matplotlib.pyplot as plt\n",
        "\n",
        "n_trials = 1000\n",
        "p_head = 0.5\n",
        "binomial_distribution = np.random.binomial(n=1, p=p_head, size=n_trials)\n",
        "\n",
        "plt.hist(binomial_distribution, bins=2)\n",
        "plt.title('Binomial Distribution (Coin Flips)')\n",
        "plt.show()"
      ],
      "metadata": {
        "colab": {
          "base_uri": "https://localhost:8080/",
          "height": 452
        },
        "id": "H0sfJCJtN7Ta",
        "outputId": "6d35e1d2-f6c9-4bca-cbdf-6e76cdd917a4"
      },
      "execution_count": 16,
      "outputs": [
        {
          "output_type": "display_data",
          "data": {
            "text/plain": [
              "<Figure size 640x480 with 1 Axes>"
            ],
            "image/png": "[encoded data removed]"
          },
          "metadata": {}
        }
      ]
    }
  ]
}